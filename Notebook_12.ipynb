{
  "cells": [
    {
      "cell_type": "markdown",
      "metadata": {
        "id": "yqy0Qg8DGJrl"
      },
      "source": [
        "# <span style=\"color:green\"> Numerical Simulation Laboratory </span>\n",
        "## <span style=\"color:brown\"> Python Exercise 12 </span>\n",
        "## <span style=\"color:orange\"> Keras - Deep & Convolutional Neural Network image recognition </span>"
      ]
    },
    {
      "cell_type": "markdown",
      "metadata": {
        "id": "R9WKVhZBGJrn"
      },
      "source": [
        "### MNIST with Keras\n",
        "\n",
        "The goal of exercise 12 is to use deep neural network models, implemented in the Keras python package, to recognize and distinguish between the ten handwritten digits (0-9).\n",
        "\n",
        "The MNIST dataset comprises $70000$ handwritten digits, each of which comes in a square image, divided into a $28\\times 28$ pixel grid. Every pixel can take on $256$ gradation of the gray color, interpolating between white and black, and hence each data point assumes any value in the set $\\{0,1,\\dots,255\\}$. Since there are $10$ categories in the problem, corresponding to the ten digits, this problem represents a generic **classification task**."
      ]
    },
    {
      "cell_type": "code",
      "execution_count": 22,
      "metadata": {
        "id": "m04AuxUUGJrq"
      },
      "outputs": [],
      "source": [
        "#import os\n",
        "#os.environ['KMP_DUPLICATE_LIB_OK']='True' #This is needed in my Anaconda+MacOsX installation; leave it commented.\n",
        "import tensorflow as tf\n",
        "from tensorflow import keras\n",
        "import os\n",
        "import numpy as np\n",
        "import matplotlib.pyplot as plt\n",
        "seed=0\n",
        "np.random.seed(seed) # fix random seed\n",
        "tf.random.set_seed(seed)"
      ]
    },
    {
      "cell_type": "markdown",
      "metadata": {
        "id": "q0h61KUwGJrt"
      },
      "source": [
        "#### Step 1: Load and Process the Data\n",
        "\n",
        "Keras can conveniently download the MNIST data from the web. All we need to do is import the `mnist` module and use the `load_data()` class, and it will create the training and test data sets or us.\n",
        "\n",
        "The MNIST set has pre-defined test and training sets, in order to facilitate the comparison of the performance of different models on the data.\n",
        "\n",
        "Once we have loaded the data, we need to format it in the correct shape."
      ]
    },
    {
      "cell_type": "code",
      "execution_count": 23,
      "metadata": {
        "colab": {
          "base_uri": "https://localhost:8080/"
        },
        "id": "XN2jcOZ9GJru",
        "outputId": "06a96efc-929d-4910-b6ff-db3f9ae116ac"
      },
      "outputs": [
        {
          "output_type": "stream",
          "name": "stdout",
          "text": [
            "X_train shape: (60000, 28, 28)\n",
            "Y_train shape: (60000,)\n"
          ]
        }
      ],
      "source": [
        "from keras.datasets import mnist\n",
        "\n",
        "# input image dimensions\n",
        "img_rows, img_cols = 28, 28 # number of pixels\n",
        "# output\n",
        "num_classes = 10 # 10 digits\n",
        "\n",
        "# the data, split between train and test sets\n",
        "(X_train, Y_train), (X_test, Y_test) = mnist.load_data()\n",
        "\n",
        "print('X_train shape:', X_train.shape)\n",
        "print('Y_train shape:', Y_train.shape)"
      ]
    },
    {
      "cell_type": "markdown",
      "metadata": {
        "id": "YEtuSxWuGJrv"
      },
      "source": [
        "#### Example: to_categorical\n",
        "\n",
        "Converts a class vector (integers) to binary class matrix. E.g. for use with categorical_crossentropy."
      ]
    },
    {
      "cell_type": "code",
      "execution_count": 24,
      "metadata": {
        "colab": {
          "base_uri": "https://localhost:8080/"
        },
        "id": "7g7xFk26GJrw",
        "outputId": "064b6850-99fc-4240-c27b-2e20f53bae59"
      },
      "outputs": [
        {
          "output_type": "execute_result",
          "data": {
            "text/plain": [
              "array([[1., 0., 0.],\n",
              "       [0., 0., 1.],\n",
              "       [0., 1., 0.],\n",
              "       [0., 0., 1.],\n",
              "       [1., 0., 0.]])"
            ]
          },
          "metadata": {},
          "execution_count": 24
        }
      ],
      "source": [
        "# Consider an array of 5 labels out of a set of 3 classes {0, 1, 2}:\n",
        "labels = np.array([0, 2, 1, 2, 0])\n",
        "# `to_categorical` converts this into a matrix with as many columns as there are classes.\n",
        "# The number of rows stays the same.\n",
        "keras.utils.to_categorical(labels)"
      ]
    },
    {
      "cell_type": "markdown",
      "metadata": {
        "id": "2sRrHeAEGJrx"
      },
      "source": [
        "#### Reshape data and convert labels to be used with categorical cross entropy"
      ]
    },
    {
      "cell_type": "code",
      "execution_count": 25,
      "metadata": {
        "colab": {
          "base_uri": "https://localhost:8080/",
          "height": 576
        },
        "id": "ihFF52KVGJrx",
        "outputId": "d42048eb-0881-44a9-a32f-7b8e33d805d9"
      },
      "outputs": [
        {
          "output_type": "stream",
          "name": "stdout",
          "text": [
            "X_train shape: (60000, 784)\n",
            "X_test shape: (10000, 784)\n",
            "\n",
            "an example of a data point with label 4\n"
          ]
        },
        {
          "output_type": "display_data",
          "data": {
            "text/plain": [
              "<Figure size 480x480 with 1 Axes>"
            ],
            "image/png": "[encoded data removed]"
          },
          "metadata": {}
        },
        {
          "output_type": "stream",
          "name": "stdout",
          "text": [
            "... and with label [0. 0. 0. 0. 1. 0. 0. 0. 0. 0.] after to_categorical\n",
            "\n",
            "X_train shape: (60000, 784)\n",
            "Y_train shape: (60000, 10)\n"
          ]
        }
      ],
      "source": [
        "# reshape data, it could depend on Keras backend\n",
        "X_train = X_train.reshape(X_train.shape[0], img_rows*img_cols)\n",
        "X_test = X_test.reshape(X_test.shape[0], img_rows*img_cols)\n",
        "print('X_train shape:', X_train.shape)\n",
        "print('X_test shape:', X_test.shape)\n",
        "print()\n",
        "\n",
        "# cast to floats\n",
        "X_train = X_train.astype('float32')\n",
        "X_test = X_test.astype('float32')\n",
        "\n",
        "# rescale data in interval [0,1]\n",
        "X_train /= 255\n",
        "X_test /= 255\n",
        "\n",
        "# look at an example of data point\n",
        "print('an example of a data point with label', Y_train[20])\n",
        "# matshow: display a matrix in a new figure window\n",
        "plt.matshow(X_train[20,:].reshape(28,28),cmap='binary')\n",
        "plt.show()\n",
        "\n",
        "# convert class vectors to binary class matrices, e.g. for use with categorical_crossentropy\n",
        "Y_train = keras.utils.to_categorical(Y_train, num_classes)\n",
        "Y_test = keras.utils.to_categorical(Y_test, num_classes)\n",
        "print('... and with label', Y_train[20], 'after to_categorical')\n",
        "print()\n",
        "print('X_train shape:', X_train.shape)\n",
        "print('Y_train shape:', Y_train.shape)"
      ]
    },
    {
      "cell_type": "markdown",
      "metadata": {
        "id": "e7fSxeNjGJry"
      },
      "source": [
        "#### Step 2: Define the Neural Net and its Architecture\n",
        "\n",
        "We can now move on to construct our deep neural net. We shall use Keras's `Sequential()` class to instantiate a model, and will add different deep layers one by one using the `add()` method\n",
        "\n",
        "For the purposes of our example, it suffices to focus on `Dense` layers for simplicity. Every `Dense()` layer accepts as its first required argument an integer which specifies the number of neurons. The type of activation function for the layer is defined using the `activation` optional argument, the input of which is the name of the activation function in `string` format. Examples include `relu`, `tanh`, `elu`, `sigmoid`, `softmax`.\n",
        "\n",
        "In order for our DNN to work properly, we have to make sure that the numbers of input and output neurons for each layer match. Therefore, we specify the shape of the input in the first layer of the model explicitly using the optional argument `input_shape=(N_features,)`. The sequential construction of the model then allows Keras to infer the correct input/output dimensions of all hidden layers automatically. Hence, we only need to specify the size of the softmax output layer to match the number of categories."
      ]
    },
    {
      "cell_type": "code",
      "execution_count": 26,
      "metadata": {
        "colab": {
          "base_uri": "https://localhost:8080/"
        },
        "id": "5z22B-QLGJrz",
        "outputId": "c469b38c-f7fa-44d8-8f0b-4f37d41a89ee"
      },
      "outputs": [
        {
          "output_type": "stream",
          "name": "stdout",
          "text": [
            "Model architecture created successfully!\n"
          ]
        }
      ],
      "source": [
        "from keras.models import Sequential\n",
        "from keras.layers import Dense, Dropout\n",
        "\n",
        "def create_DNN():\n",
        "    # instantiate model\n",
        "    model = Sequential()\n",
        "    # add a dense all-to-all relu layer\n",
        "    model.add(Dense(400,input_shape=(img_rows*img_cols,), activation='relu'))\n",
        "    # add a dense all-to-all relu layer\n",
        "    model.add(Dense(100, activation='relu'))\n",
        "    # apply dropout with rate 0.5\n",
        "    model.add(Dropout(0.5))\n",
        "    # soft-max layer\n",
        "    model.add(Dense(num_classes, activation='softmax'))\n",
        "\n",
        "    return model\n",
        "\n",
        "print('Model architecture created successfully!')"
      ]
    },
    {
      "cell_type": "markdown",
      "metadata": {
        "id": "-xEd-uKRGJrz"
      },
      "source": [
        "#### Step 3: Choose the Optimizer and the Cost Function\n",
        "\n",
        "Next, we choose the loss function according to which to train the DNN. For classification problems, this is the cross entropy, and since the output data was cast in categorical form, we choose the `categorical_crossentropy` defined in Keras' `losses` module. Depending on the problem of interest one can pick any other suitable loss function. To optimize the weights of the net, we choose SGD. This algorithm is already available to use under Keras' `optimizers` module, but we could use any other built-in one as well. The parameters for the optimizer, such as `lr` (learning rate) or `momentum` are passed using the corresponding optional arguments of the `SGD()` function. All available arguments can be found in Keras' online documentation at [https://keras.io/](https://keras.io/). While the loss function and the optimizer are essential for the training procedure, to test the performance of the model one may want to look at a particular `metric` of performance. For instance, in categorical tasks one typically looks at their `accuracy`, which is defined as the percentage of correctly classified data points. To complete the definition of our model, we use the `compile()` method, with optional arguments for the `optimizer`, `loss`, and the validation `metric` as follows:"
      ]
    },
    {
      "cell_type": "code",
      "execution_count": 27,
      "metadata": {
        "colab": {
          "base_uri": "https://localhost:8080/"
        },
        "id": "nP58BaNnGJr0",
        "outputId": "15248c63-2bcd-463f-8277-4b8b18a7eb95"
      },
      "outputs": [
        {
          "output_type": "stream",
          "name": "stdout",
          "text": [
            "Model compiled successfully and ready to be trained.\n"
          ]
        }
      ],
      "source": [
        "from keras.optimizers import SGD, Adam, RMSprop, Adagrad, Adadelta, Adam, Adamax, Nadam\n",
        "\n",
        "def compile_model():\n",
        "    # create the model\n",
        "    model=create_DNN()\n",
        "    # compile the model\n",
        "    model.compile(loss=keras.losses.categorical_crossentropy,\n",
        "                  optimizer=RMSprop(), # SGD() originariamente, ho provato Adam() e RMSprop()\n",
        "                  metrics=['acc'])\n",
        "    return model\n",
        "\n",
        "print('Model compiled successfully and ready to be trained.')"
      ]
    },
    {
      "cell_type": "markdown",
      "metadata": {
        "id": "_dEwdxtRGJr1"
      },
      "source": [
        "#### Step 4: Train the model\n",
        "\n",
        "We train our DNN in minibatches.\n",
        "\n",
        "Shuffling the training data during training improves stability of the model. Thus, we train over a number of training epochs. Each epoch corresponds to using **all the train data** divided in minibatches.\n",
        "\n",
        "Training the DNN is a one-liner using the `fit()` method of the `Sequential` class. The first two required arguments are the training input and output data. As optional arguments, we specify the mini-`batch_size`, the number of training `epochs`, and the test or `validation_data`. To monitor the training procedure for every epoch, we set `verbose=True`."
      ]
    },
    {
      "cell_type": "code",
      "execution_count": 28,
      "metadata": {
        "colab": {
          "base_uri": "https://localhost:8080/"
        },
        "id": "eX7pyLxbGJr1",
        "outputId": "57b1e9bb-ae49-4d92-b2fa-92d6c06f8cfd"
      },
      "outputs": [
        {
          "output_type": "stream",
          "name": "stdout",
          "text": [
            "Epoch 1/10\n",
            "\u001b[1m1875/1875\u001b[0m \u001b[32m━━━━━━━━━━━━━━━━━━━━\u001b[0m\u001b[37m\u001b[0m \u001b[1m15s\u001b[0m 7ms/step - acc: 0.8618 - loss: 0.4630 - val_acc: 0.9656 - val_loss: 0.1240\n",
            "Epoch 2/10\n",
            "\u001b[1m1875/1875\u001b[0m \u001b[32m━━━━━━━━━━━━━━━━━━━━\u001b[0m\u001b[37m\u001b[0m \u001b[1m14s\u001b[0m 8ms/step - acc: 0.9613 - loss: 0.1466 - val_acc: 0.9735 - val_loss: 0.1139\n",
            "Epoch 3/10\n",
            "\u001b[1m1875/1875\u001b[0m \u001b[32m━━━━━━━━━━━━━━━━━━━━\u001b[0m\u001b[37m\u001b[0m \u001b[1m20s\u001b[0m 7ms/step - acc: 0.9698 - loss: 0.1249 - val_acc: 0.9762 - val_loss: 0.1111\n",
            "Epoch 4/10\n",
            "\u001b[1m1875/1875\u001b[0m \u001b[32m━━━━━━━━━━━━━━━━━━━━\u001b[0m\u001b[37m\u001b[0m \u001b[1m21s\u001b[0m 8ms/step - acc: 0.9728 - loss: 0.1192 - val_acc: 0.9750 - val_loss: 0.1301\n",
            "Epoch 5/10\n",
            "\u001b[1m1875/1875\u001b[0m \u001b[32m━━━━━━━━━━━━━━━━━━━━\u001b[0m\u001b[37m\u001b[0m \u001b[1m15s\u001b[0m 8ms/step - acc: 0.9753 - loss: 0.1105 - val_acc: 0.9763 - val_loss: 0.1229\n",
            "Epoch 6/10\n",
            "\u001b[1m1875/1875\u001b[0m \u001b[32m━━━━━━━━━━━━━━━━━━━━\u001b[0m\u001b[37m\u001b[0m \u001b[1m19s\u001b[0m 8ms/step - acc: 0.9758 - loss: 0.1133 - val_acc: 0.9785 - val_loss: 0.1277\n",
            "Epoch 7/10\n",
            "\u001b[1m1875/1875\u001b[0m \u001b[32m━━━━━━━━━━━━━━━━━━━━\u001b[0m\u001b[37m\u001b[0m \u001b[1m21s\u001b[0m 8ms/step - acc: 0.9763 - loss: 0.1083 - val_acc: 0.9768 - val_loss: 0.1690\n",
            "Epoch 8/10\n",
            "\u001b[1m1875/1875\u001b[0m \u001b[32m━━━━━━━━━━━━━━━━━━━━\u001b[0m\u001b[37m\u001b[0m \u001b[1m14s\u001b[0m 7ms/step - acc: 0.9773 - loss: 0.1077 - val_acc: 0.9764 - val_loss: 0.1991\n",
            "Epoch 9/10\n",
            "\u001b[1m1875/1875\u001b[0m \u001b[32m━━━━━━━━━━━━━━━━━━━━\u001b[0m\u001b[37m\u001b[0m \u001b[1m14s\u001b[0m 7ms/step - acc: 0.9777 - loss: 0.1107 - val_acc: 0.9758 - val_loss: 0.1761\n",
            "Epoch 10/10\n",
            "\u001b[1m1875/1875\u001b[0m \u001b[32m━━━━━━━━━━━━━━━━━━━━\u001b[0m\u001b[37m\u001b[0m \u001b[1m15s\u001b[0m 8ms/step - acc: 0.9789 - loss: 0.1055 - val_acc: 0.9806 - val_loss: 0.1617\n"
          ]
        }
      ],
      "source": [
        "# training parameters\n",
        "batch_size = 32\n",
        "epochs = 10 # Non consegnare esercizi svolti con 5 epoche, qui è solo di esempio ma va cambiato\n",
        "\n",
        "# create the deep neural net\n",
        "model_DNN = compile_model()\n",
        "\n",
        "# train DNN and store training info in history\n",
        "history = model_DNN.fit(X_train, Y_train,\n",
        "          batch_size=batch_size,\n",
        "          epochs=epochs,\n",
        "          shuffle=True, # a good idea is to shuffle input before at each epoch\n",
        "          verbose=1,\n",
        "          validation_data=(X_test, Y_test))"
      ]
    },
    {
      "cell_type": "markdown",
      "metadata": {
        "id": "FvJh3KZjGJr2"
      },
      "source": [
        "#### Step 5: Evaluate the Model Performance on the *Unseen* Test Data\n",
        "\n",
        "Next, we evaluate the model and read of the loss on the test data, and its accuracy using the `evaluate()` method."
      ]
    },
    {
      "cell_type": "code",
      "execution_count": 29,
      "metadata": {
        "id": "cpXx9GWZGJr2",
        "colab": {
          "base_uri": "https://localhost:8080/",
          "height": 950
        },
        "outputId": "563e47fd-10b0-48f9-edf7-2f2a1939a94f"
      },
      "outputs": [
        {
          "output_type": "stream",
          "name": "stdout",
          "text": [
            "\u001b[1m313/313\u001b[0m \u001b[32m━━━━━━━━━━━━━━━━━━━━\u001b[0m\u001b[37m\u001b[0m \u001b[1m1s\u001b[0m 3ms/step - acc: 0.9771 - loss: 0.1924\n",
            "\n",
            "Test loss: 0.1616533398628235\n",
            "Test accuracy: 0.9805999994277954\n"
          ]
        },
        {
          "output_type": "display_data",
          "data": {
            "text/plain": [
              "<Figure size 640x480 with 1 Axes>"
            ],
            "image/png": "[encoded data removed]"
          },
          "metadata": {}
        },
        {
          "output_type": "display_data",
          "data": {
            "text/plain": [
              "<Figure size 640x480 with 1 Axes>"
            ],
            "image/png": "[encoded data removed]"
          },
          "metadata": {}
        }
      ],
      "source": [
        "# evaluate model\n",
        "score = model_DNN.evaluate(X_test, Y_test, verbose=1)\n",
        "\n",
        "# print performance\n",
        "print()\n",
        "print('Test loss:', score[0])\n",
        "print('Test accuracy:', score[1])\n",
        "\n",
        "# look into training history\n",
        "\n",
        "# summarize history for accuracy\n",
        "plt.plot(history.history['acc'])\n",
        "plt.plot(history.history['val_acc'])\n",
        "plt.ylabel('model accuracy')\n",
        "plt.xlabel('epoch')\n",
        "plt.legend(['train', 'test'], loc='best')\n",
        "plt.show()\n",
        "\n",
        "# summarize history for loss\n",
        "plt.plot(history.history['loss'])\n",
        "plt.plot(history.history['val_loss'])\n",
        "plt.ylabel('model loss')\n",
        "plt.xlabel('epoch')\n",
        "plt.legend(['train', 'test'], loc='best')\n",
        "plt.show()"
      ]
    },
    {
      "cell_type": "markdown",
      "metadata": {
        "id": "LN0A0t71GJr2"
      },
      "source": [
        "Dropout, during training, slices off some artificial neurons, thus, training accuracy suffers.\n",
        "\n",
        "Dropout, during testing, turns itself off and allows all of the ‘weak classifiers’ in the neural network to be used. Thus, testing accuracy improves with respect to training accuracy."
      ]
    },
    {
      "cell_type": "code",
      "execution_count": 30,
      "metadata": {
        "id": "k55D1GmhGJr3",
        "colab": {
          "base_uri": "https://localhost:8080/",
          "height": 195
        },
        "outputId": "a76d67ab-d535-40ea-c4f3-5702ae30d756"
      },
      "outputs": [
        {
          "output_type": "stream",
          "name": "stdout",
          "text": [
            "\u001b[1m313/313\u001b[0m \u001b[32m━━━━━━━━━━━━━━━━━━━━\u001b[0m\u001b[37m\u001b[0m \u001b[1m2s\u001b[0m 5ms/step\n"
          ]
        },
        {
          "output_type": "display_data",
          "data": {
            "text/plain": [
              "<Figure size 1500x1500 with 10 Axes>"
            ],
            "image/png": "[encoded data removed]"
          },
          "metadata": {}
        }
      ],
      "source": [
        "#X_test = X_test.reshape(X_test.shape[0], img_rows*img_cols)\n",
        "predictions = model_DNN.predict(X_test)\n",
        "\n",
        "X_test = X_test.reshape(X_test.shape[0], img_rows, img_cols,1)\n",
        "\n",
        "plt.figure(figsize=(15, 15))\n",
        "for i in range(10):\n",
        "    ax = plt.subplot(2, 10, i + 1)\n",
        "    plt.imshow(X_test[i, :, :, 0], cmap='gray')\n",
        "    plt.title(\"Digit: {}\\nPredicted:    {}\".format(np.argmax(Y_test[i]), np.argmax(predictions[i])))\n",
        "    plt.axis('off')\n",
        "plt.show()"
      ]
    },
    {
      "cell_type": "markdown",
      "metadata": {
        "id": "2-d_BMNUGJr4"
      },
      "source": [
        "### Exercise 12.1\n",
        "\n",
        "<span style=\"color:red\">Change at will and train your DNN by increasing the number of epochs to an adeuqate value</span>. Try to use at least two other optimizers, different from SGD: <span style=\"color:red\">watch to accuracy and loss for training and validation data and comment on the performances</span>."
      ]
    },
    {
      "cell_type": "markdown",
      "source": [
        "### Commento\n",
        "\n",
        "Sono state confrontate, dopo 10 epoche, le performance del DNN con tre diversi ottimizzatori: SGD, Adam e RMSprop.\n",
        "\n",
        "* SGD: Ha ottenuto una Test loss di circa 0.113 e una Test accuracy di circa 0.964. Con questo ottimizzatore, il modello ha indovinato correttamente 9 cifre su 10.\n",
        "* Adam: Ha mostrato una Test loss leggermente inferiore, intorno a 0.091, e una Test accuracy più alta, circa 0.980. Anche con Adam, il modello ha indovinato correttamente 9 cifre su 10.\n",
        "* RMSprop: Questo ottimizzatore ha avuto la Test loss più alta tra i tre, circa 0.162, ma ha raggiunto la Test accuracy più alta, circa 0.981. In questo caso, il modello è riuscito a indovinare correttamente tutte e 10 le cifre testate.\n",
        "In sintesi, per le 10 epoche considerate, Adam ha avuto la loss migliore, mentre RMSprop ha ottenuto la migliore accuracy sul set di test."
      ],
      "metadata": {
        "id": "manvztz1E4EN"
      }
    },
    {
      "cell_type": "markdown",
      "metadata": {
        "id": "p1oLfRBwGJr5"
      },
      "source": [
        "#### Creating Convolutional Neural Nets with Keras\n",
        "\n",
        "We have so far considered each MNIST data sample as a $(28\\times 28,)$-long 1d vector. On the other hand, we do know that in every one of the hand-written digits there are *local* spatial correlations between the pixels, but also *translational invariance*, which we would like to take advantage of to improve the accuracy of our classification model. To this end, we first need to reshape the training and test input data as follows"
      ]
    },
    {
      "cell_type": "code",
      "execution_count": 31,
      "metadata": {
        "id": "TbmTByOHGJr5",
        "colab": {
          "base_uri": "https://localhost:8080/"
        },
        "outputId": "494516f2-f12d-4ecb-c7dd-ed56f2a48155"
      },
      "outputs": [
        {
          "output_type": "stream",
          "name": "stdout",
          "text": [
            "X_train shape: (60000, 28, 28, 1)\n",
            "Y_train shape: (60000, 10)\n",
            "\n",
            "60000 train samples\n",
            "10000 test samples\n"
          ]
        }
      ],
      "source": [
        "# you will need the following for Convolutional Neural Networks\n",
        "from keras.layers import Flatten, Conv2D, MaxPooling2D\n",
        "\n",
        "# reshape data, depending on Keras backend\n",
        "if keras.backend.image_data_format() == 'channels_first':\n",
        "    X_train = X_train.reshape(X_train.shape[0], 1, img_rows, img_cols)\n",
        "    X_test = X_test.reshape(X_test.shape[0], 1, img_rows, img_cols)\n",
        "    input_shape = (1, img_rows, img_cols)\n",
        "else:\n",
        "    X_train = X_train.reshape(X_train.shape[0], img_rows, img_cols, 1)\n",
        "    X_test = X_test.reshape(X_test.shape[0], img_rows, img_cols, 1)\n",
        "    input_shape = (img_rows, img_cols, 1)\n",
        "\n",
        "print('X_train shape:', X_train.shape)\n",
        "print('Y_train shape:', Y_train.shape)\n",
        "print()\n",
        "print(X_train.shape[0], 'train samples')\n",
        "print(X_test.shape[0], 'test samples')"
      ]
    },
    {
      "cell_type": "markdown",
      "metadata": {
        "id": "kP3m7DwIGJr7"
      },
      "source": [
        "One can ask the question of whether a neural net can learn to recognize such local patterns. This can be achieved by using convolutional layers."
      ]
    },
    {
      "cell_type": "markdown",
      "metadata": {
        "id": "mvt5Ski9GJr7"
      },
      "source": [
        "### Exercise 12.2\n",
        "\n",
        "Change the architecture of your DNN using convolutional layers. Use `Conv2D`, `MaxPooling2D`, `Dropout`, but also do not forget `Flatten`, a standard `Dense` layer and `soft-max` in the end. I have merged step 2 and 3 in the following definition of `create_CNN()` that **<span style=\"color:red\">you should complete</span>**:"
      ]
    },
    {
      "cell_type": "code",
      "execution_count": 38,
      "metadata": {
        "id": "_o8xQlFQGJr7",
        "colab": {
          "base_uri": "https://localhost:8080/"
        },
        "outputId": "d6f41621-2fa3-4ef8-dace-fa749c727675"
      },
      "outputs": [
        {
          "output_type": "stream",
          "name": "stdout",
          "text": [
            "X_train shape: (60000, 28, 28, 1)\n",
            "Y_train shape: (60000, 10)\n",
            "\n",
            "60000 train samples\n",
            "10000 test samples\n",
            "CNN architecture created successfully!\n"
          ]
        }
      ],
      "source": [
        "from tensorflow import keras\n",
        "from keras.layers import Flatten, Conv2D, MaxPooling2D\n",
        "from keras.models import Sequential\n",
        "from keras.layers import Dense, Dropout\n",
        "\n",
        "# reshape data, depending on Keras backend\n",
        "# Ensure X_train and X_test are defined before this block\n",
        "# (They are defined in the previous cell where MNIST data is loaded)\n",
        "if keras.backend.image_data_format() == 'channels_first':\n",
        "    # Check if X_train needs reshaping for CNN\n",
        "    if X_train.shape != (X_train.shape[0], 1, img_rows, img_cols):\n",
        "        X_train = X_train.reshape(X_train.shape[0], 1, img_rows, img_cols)\n",
        "    if X_test.shape != (X_test.shape[0], 1, img_rows, img_cols):\n",
        "        X_test = X_test.reshape(X_test.shape[0], 1, img_rows, img_cols)\n",
        "    input_shape = (1, img_rows, img_cols)\n",
        "else:\n",
        "    # Check if X_train needs reshaping for CNN\n",
        "    if X_train.shape != (X_train.shape[0], img_rows, img_cols, 1):\n",
        "        X_train = X_train.reshape(X_train.shape[0], img_rows, img_cols, 1)\n",
        "    if X_test.shape != (X_test.shape[0], img_rows, img_cols, 1):\n",
        "        X_test = X_test.reshape(X_test.shape[0], img_rows, img_cols, 1)\n",
        "    input_shape = (img_rows, img_cols, 1)\n",
        "\n",
        "print('X_train shape:', X_train.shape)\n",
        "print('Y_train shape:', Y_train.shape)\n",
        "print()\n",
        "print(X_train.shape[0], 'train samples')\n",
        "print(X_test.shape[0], 'test samples')\n",
        "\n",
        "\n",
        "def create_CNN():\n",
        "    # instantiate model\n",
        "    model = Sequential()\n",
        "    # add first convolutional layer with 10 filters (dimensionality of output space)\n",
        "    model.add(Conv2D(32, kernel_size=(5, 5),\n",
        "                     activation='relu',\n",
        "                     input_shape=input_shape))\n",
        "    # Add a MaxPooling2D layer\n",
        "    model.add(MaxPooling2D(pool_size=(2, 2)))\n",
        "    # Add another convolutional layer\n",
        "    model.add(Conv2D(64, kernel_size=(5, 5), activation='relu'))\n",
        "    # Add another MaxPooling2D layer\n",
        "    model.add(MaxPooling2D(pool_size=(2, 2)))\n",
        "    # Add a Dropout layer for regularization\n",
        "    model.add(Dropout(0.25))\n",
        "    # Flatten the output for the Dense layers\n",
        "    model.add(Flatten())\n",
        "    # Add a Dense layer\n",
        "    model.add(Dense(128, activation='relu'))\n",
        "    # Add another Dropout layer\n",
        "    model.add(Dropout(0.5))\n",
        "    # soft-max layer for classification\n",
        "    model.add(Dense(num_classes, activation='softmax'))\n",
        "\n",
        "    # compile the model\n",
        "    model.compile(loss=keras.losses.categorical_crossentropy,\n",
        "                  optimizer='SGD', # Buon compromesso\n",
        "                  metrics=['acc'])\n",
        "    return model\n",
        "\n",
        "print('CNN architecture created successfully!')"
      ]
    },
    {
      "cell_type": "markdown",
      "metadata": {
        "id": "d8Vd9bwEGJr9"
      },
      "source": [
        "Train your DCNN and evaluate its performance proceeding exactly as before:"
      ]
    },
    {
      "cell_type": "code",
      "execution_count": 39,
      "metadata": {
        "id": "7U2m9lCKGJr9",
        "colab": {
          "base_uri": "https://localhost:8080/"
        },
        "outputId": "319ff3de-0a7a-42f2-a76c-252d02536cdd"
      },
      "outputs": [
        {
          "output_type": "stream",
          "name": "stdout",
          "text": [
            "Epoch 1/20\n",
            "\u001b[1m1875/1875\u001b[0m \u001b[32m━━━━━━━━━━━━━━━━━━━━\u001b[0m\u001b[37m\u001b[0m \u001b[1m78s\u001b[0m 42ms/step - acc: 0.5986 - loss: 1.2125 - val_acc: 0.9569 - val_loss: 0.1405\n",
            "Epoch 2/20\n",
            "\u001b[1m1875/1875\u001b[0m \u001b[32m━━━━━━━━━━━━━━━━━━━━\u001b[0m\u001b[37m\u001b[0m \u001b[1m79s\u001b[0m 42ms/step - acc: 0.9242 - loss: 0.2517 - val_acc: 0.9697 - val_loss: 0.0953\n",
            "Epoch 3/20\n",
            "\u001b[1m1875/1875\u001b[0m \u001b[32m━━━━━━━━━━━━━━━━━━━━\u001b[0m\u001b[37m\u001b[0m \u001b[1m74s\u001b[0m 38ms/step - acc: 0.9462 - loss: 0.1755 - val_acc: 0.9779 - val_loss: 0.0705\n",
            "Epoch 4/20\n",
            "\u001b[1m1875/1875\u001b[0m \u001b[32m━━━━━━━━━━━━━━━━━━━━\u001b[0m\u001b[37m\u001b[0m \u001b[1m84s\u001b[0m 39ms/step - acc: 0.9569 - loss: 0.1436 - val_acc: 0.9813 - val_loss: 0.0583\n",
            "Epoch 5/20\n",
            "\u001b[1m1875/1875\u001b[0m \u001b[32m━━━━━━━━━━━━━━━━━━━━\u001b[0m\u001b[37m\u001b[0m \u001b[1m83s\u001b[0m 39ms/step - acc: 0.9610 - loss: 0.1300 - val_acc: 0.9836 - val_loss: 0.0526\n",
            "Epoch 6/20\n",
            "\u001b[1m1875/1875\u001b[0m \u001b[32m━━━━━━━━━━━━━━━━━━━━\u001b[0m\u001b[37m\u001b[0m \u001b[1m79s\u001b[0m 38ms/step - acc: 0.9672 - loss: 0.1116 - val_acc: 0.9864 - val_loss: 0.0443\n",
            "Epoch 7/20\n",
            "\u001b[1m1875/1875\u001b[0m \u001b[32m━━━━━━━━━━━━━━━━━━━━\u001b[0m\u001b[37m\u001b[0m \u001b[1m82s\u001b[0m 38ms/step - acc: 0.9705 - loss: 0.0991 - val_acc: 0.9858 - val_loss: 0.0422\n",
            "Epoch 8/20\n",
            "\u001b[1m1875/1875\u001b[0m \u001b[32m━━━━━━━━━━━━━━━━━━━━\u001b[0m\u001b[37m\u001b[0m \u001b[1m80s\u001b[0m 37ms/step - acc: 0.9722 - loss: 0.0937 - val_acc: 0.9878 - val_loss: 0.0393\n",
            "Epoch 9/20\n",
            "\u001b[1m1875/1875\u001b[0m \u001b[32m━━━━━━━━━━━━━━━━━━━━\u001b[0m\u001b[37m\u001b[0m \u001b[1m84s\u001b[0m 38ms/step - acc: 0.9730 - loss: 0.0905 - val_acc: 0.9878 - val_loss: 0.0372\n",
            "Epoch 10/20\n",
            "\u001b[1m1875/1875\u001b[0m \u001b[32m━━━━━━━━━━━━━━━━━━━━\u001b[0m\u001b[37m\u001b[0m \u001b[1m80s\u001b[0m 37ms/step - acc: 0.9751 - loss: 0.0851 - val_acc: 0.9888 - val_loss: 0.0375\n",
            "Epoch 11/20\n",
            "\u001b[1m1875/1875\u001b[0m \u001b[32m━━━━━━━━━━━━━━━━━━━━\u001b[0m\u001b[37m\u001b[0m \u001b[1m84s\u001b[0m 38ms/step - acc: 0.9770 - loss: 0.0774 - val_acc: 0.9896 - val_loss: 0.0333\n",
            "Epoch 12/20\n",
            "\u001b[1m1875/1875\u001b[0m \u001b[32m━━━━━━━━━━━━━━━━━━━━\u001b[0m\u001b[37m\u001b[0m \u001b[1m82s\u001b[0m 38ms/step - acc: 0.9783 - loss: 0.0733 - val_acc: 0.9897 - val_loss: 0.0319\n",
            "Epoch 13/20\n",
            "\u001b[1m1875/1875\u001b[0m \u001b[32m━━━━━━━━━━━━━━━━━━━━\u001b[0m\u001b[37m\u001b[0m \u001b[1m69s\u001b[0m 37ms/step - acc: 0.9773 - loss: 0.0726 - val_acc: 0.9896 - val_loss: 0.0310\n",
            "Epoch 14/20\n",
            "\u001b[1m1875/1875\u001b[0m \u001b[32m━━━━━━━━━━━━━━━━━━━━\u001b[0m\u001b[37m\u001b[0m \u001b[1m84s\u001b[0m 38ms/step - acc: 0.9805 - loss: 0.0670 - val_acc: 0.9896 - val_loss: 0.0308\n",
            "Epoch 15/20\n",
            "\u001b[1m1875/1875\u001b[0m \u001b[32m━━━━━━━━━━━━━━━━━━━━\u001b[0m\u001b[37m\u001b[0m \u001b[1m72s\u001b[0m 38ms/step - acc: 0.9814 - loss: 0.0628 - val_acc: 0.9908 - val_loss: 0.0287\n",
            "Epoch 16/20\n",
            "\u001b[1m1875/1875\u001b[0m \u001b[32m━━━━━━━━━━━━━━━━━━━━\u001b[0m\u001b[37m\u001b[0m \u001b[1m81s\u001b[0m 38ms/step - acc: 0.9818 - loss: 0.0618 - val_acc: 0.9905 - val_loss: 0.0287\n",
            "Epoch 17/20\n",
            "\u001b[1m1875/1875\u001b[0m \u001b[32m━━━━━━━━━━━━━━━━━━━━\u001b[0m\u001b[37m\u001b[0m \u001b[1m73s\u001b[0m 39ms/step - acc: 0.9810 - loss: 0.0612 - val_acc: 0.9914 - val_loss: 0.0267\n",
            "Epoch 18/20\n",
            "\u001b[1m1875/1875\u001b[0m \u001b[32m━━━━━━━━━━━━━━━━━━━━\u001b[0m\u001b[37m\u001b[0m \u001b[1m80s\u001b[0m 38ms/step - acc: 0.9832 - loss: 0.0566 - val_acc: 0.9910 - val_loss: 0.0272\n",
            "Epoch 19/20\n",
            "\u001b[1m1875/1875\u001b[0m \u001b[32m━━━━━━━━━━━━━━━━━━━━\u001b[0m\u001b[37m\u001b[0m \u001b[1m83s\u001b[0m 39ms/step - acc: 0.9832 - loss: 0.0567 - val_acc: 0.9910 - val_loss: 0.0273\n",
            "Epoch 20/20\n",
            "\u001b[1m1875/1875\u001b[0m \u001b[32m━━━━━━━━━━━━━━━━━━━━\u001b[0m\u001b[37m\u001b[0m \u001b[1m70s\u001b[0m 37ms/step - acc: 0.9842 - loss: 0.0520 - val_acc: 0.9916 - val_loss: 0.0270\n",
            "\u001b[1m313/313\u001b[0m \u001b[32m━━━━━━━━━━━━━━━━━━━━\u001b[0m\u001b[37m\u001b[0m \u001b[1m3s\u001b[0m 10ms/step - acc: 0.9905 - loss: 0.0327\n",
            "\n",
            "Test loss CNN: 0.0270067285746336\n",
            "Test accuracy CNN: 0.991599977016449\n"
          ]
        }
      ],
      "source": [
        "# training parameters\n",
        "batch_size = 32\n",
        "epochs = 20 # Aumentare le epoche per un addestramento più lungo\n",
        "\n",
        "# create the deep conv net\n",
        "model_CNN = create_CNN()\n",
        "\n",
        "# train CNN\n",
        "history_CNN = model_CNN.fit(X_train, Y_train,\n",
        "          batch_size=batch_size,\n",
        "          epochs=epochs,\n",
        "          shuffle=True,\n",
        "          verbose=1,\n",
        "          validation_data=(X_test, Y_test))\n",
        "\n",
        "# evaluate model\n",
        "score_CNN = model_CNN.evaluate(X_test, Y_test, verbose=1)\n",
        "\n",
        "# print performance\n",
        "print()\n",
        "print('Test loss CNN:', score_CNN[0])\n",
        "print('Test accuracy CNN:', score_CNN[1])"
      ]
    },
    {
      "cell_type": "markdown",
      "metadata": {
        "id": "g70zZHzuGJr-"
      },
      "source": [
        "In the end, **<span style=\"color:red\">add the evaluation of your CNN performances</span>** like that used for the DNN."
      ]
    },
    {
      "cell_type": "code",
      "source": [
        "import matplotlib.pyplot as plt # Importa matplotlib per i grafici\n",
        "\n",
        "# look into training history for CNN\n",
        "\n",
        "# summarize history for accuracy\n",
        "plt.plot(history_CNN.history['acc'])\n",
        "plt.plot(history_CNN.history['val_acc'])\n",
        "plt.ylabel('model accuracy')\n",
        "plt.xlabel('epoch')\n",
        "plt.legend(['train', 'test'], loc='best')\n",
        "plt.title('CNN Model Accuracy')\n",
        "plt.show()\n",
        "\n",
        "# summarize history for loss\n",
        "plt.plot(history_CNN.history['loss'])\n",
        "plt.plot(history_CNN.history['val_loss'])\n",
        "plt.ylabel('model loss')\n",
        "plt.xlabel('epoch')\n",
        "plt.legend(['train', 'test'], loc='best')\n",
        "plt.title('CNN Model Loss')\n",
        "plt.show()"
      ],
      "metadata": {
        "id": "vNYNvhklJAp5",
        "colab": {
          "base_uri": "https://localhost:8080/",
          "height": 927
        },
        "outputId": "5596c8d1-0cba-4368-d34d-b8442447d97b"
      },
      "execution_count": 40,
      "outputs": [
        {
          "output_type": "display_data",
          "data": {
            "text/plain": [
              "<Figure size 640x480 with 1 Axes>"
            ],
            "image/png": "[encoded data removed]"
          },
          "metadata": {}
        },
        {
          "output_type": "display_data",
          "data": {
            "text/plain": [
              "<Figure size 640x480 with 1 Axes>"
            ],
            "image/png": "[encoded data removed]"
          },
          "metadata": {}
        }
      ]
    },
    {
      "cell_type": "markdown",
      "source": [
        "### Analisi dei risultati\n",
        "\n",
        "I grafici dell'accuracy e della loss per la CNN mostrano un apprendimento efficace e una buona generalizzazione sui dati di test per tutte le (20) epoche addestrate. L'accuracy sul test set raggiunge un valore più alto rispetto alla DNN addestrata precedentemente, e la loss sul test set continua a diminuire senza mostrare chiari segni di overfitting nel range di epoche considerate. Questo conferma che l'architettura convoluzionale è particolarmente adatta per il riconoscimento di immagini come quelle del dataset MNIST."
      ],
      "metadata": {
        "id": "lTxXE_kPLsr6"
      }
    },
    {
      "cell_type": "markdown",
      "metadata": {
        "id": "4efggXqqGJr-"
      },
      "source": [
        "### Exercise 12.3\n",
        "\n",
        "Use the `gimp` application to create 10 pictures of your \"handwritten\" digits, import them in your jupyter-notebook and try to see if your CNN is able to recognize your handwritten digits. (Disegna con aerografo e ricorda di invertire i colori (sfondo nero, inchiostro bianco))\n",
        "\n",
        "For example, you can use the following code to import a picture of an handwritten digit\n",
        "(Note: you should install Python Image Library (PIL/Pillow):"
      ]
    },
    {
      "cell_type": "code",
      "execution_count": 52,
      "metadata": {
        "id": "l5RIP7MuGJr-",
        "colab": {
          "base_uri": "https://localhost:8080/",
          "height": 386
        },
        "outputId": "b2954a74-01bb-4831-bd1d-84ede4daf50e"
      },
      "outputs": [
        {
          "output_type": "display_data",
          "data": {
            "text/plain": [
              "<IPython.core.display.HTML object>"
            ],
            "text/html": [
              "\n",
              "     <input type=\"file\" id=\"files-347a3736-3caa-4933-84e4-73f14c759507\" name=\"files[]\" multiple disabled\n",
              "        style=\"border:none\" />\n",
              "     <output id=\"result-347a3736-3caa-4933-84e4-73f14c759507\">\n",
              "      Upload widget is only available when the cell has been executed in the\n",
              "      current browser session. Please rerun this cell to enable.\n",
              "      </output>\n",
              "      <script>// Copyright 2017 Google LLC\n",
              "//\n",
              "// Licensed under the Apache License, Version 2.0 (the \"License\");\n",
              "// you may not use this file except in compliance with the License.\n",
              "// You may obtain a copy of the License at\n",
              "//\n",
              "//      http://www.apache.org/licenses/LICENSE-2.0\n",
              "//\n",
              "// Unless required by applicable law or agreed to in writing, software\n",
              "// distributed under the License is distributed on an \"AS IS\" BASIS,\n",
              "// WITHOUT WARRANTIES OR CONDITIONS OF ANY KIND, either express or implied.\n",
              "// See the License for the specific language governing permissions and\n",
              "// limitations under the License.\n",
              "\n",
              "/**\n",
              " * @fileoverview Helpers for google.colab Python module.\n",
              " */\n",
              "(function(scope) {\n",
              "function span(text, styleAttributes = {}) {\n",
              "  const element = document.createElement('span');\n",
              "  element.textContent = text;\n",
              "  for (const key of Object.keys(styleAttributes)) {\n",
              "    element.style[key] = styleAttributes[key];\n",
              "  }\n",
              "  return element;\n",
              "}\n",
              "\n",
              "// Max number of bytes which will be uploaded at a time.\n",
              "const MAX_PAYLOAD_SIZE = 100 * 1024;\n",
              "\n",
              "function _uploadFiles(inputId, outputId) {\n",
              "  const steps = uploadFilesStep(inputId, outputId);\n",
              "  const outputElement = document.getElementById(outputId);\n",
              "  // Cache steps on the outputElement to make it available for the next call\n",
              "  // to uploadFilesContinue from Python.\n",
              "  outputElement.steps = steps;\n",
              "\n",
              "  return _uploadFilesContinue(outputId);\n",
              "}\n",
              "\n",
              "// This is roughly an async generator (not supported in the browser yet),\n",
              "// where there are multiple asynchronous steps and the Python side is going\n",
              "// to poll for completion of each step.\n",
              "// This uses a Promise to block the python side on completion of each step,\n",
              "// then passes the result of the previous step as the input to the next step.\n",
              "function _uploadFilesContinue(outputId) {\n",
              "  const outputElement = document.getElementById(outputId);\n",
              "  const steps = outputElement.steps;\n",
              "\n",
              "  const next = steps.next(outputElement.lastPromiseValue);\n",
              "  return Promise.resolve(next.value.promise).then((value) => {\n",
              "    // Cache the last promise value to make it available to the next\n",
              "    // step of the generator.\n",
              "    outputElement.lastPromiseValue = value;\n",
              "    return next.value.response;\n",
              "  });\n",
              "}\n",
              "\n",
              "/**\n",
              " * Generator function which is called between each async step of the upload\n",
              " * process.\n",
              " * @param {string} inputId Element ID of the input file picker element.\n",
              " * @param {string} outputId Element ID of the output display.\n",
              " * @return {!Iterable<!Object>} Iterable of next steps.\n",
              " */\n",
              "function* uploadFilesStep(inputId, outputId) {\n",
              "  const inputElement = document.getElementById(inputId);\n",
              "  inputElement.disabled = false;\n",
              "\n",
              "  const outputElement = document.getElementById(outputId);\n",
              "  outputElement.innerHTML = '';\n",
              "\n",
              "  const pickedPromise = new Promise((resolve) => {\n",
              "    inputElement.addEventListener('change', (e) => {\n",
              "      resolve(e.target.files);\n",
              "    });\n",
              "  });\n",
              "\n",
              "  const cancel = document.createElement('button');\n",
              "  inputElement.parentElement.appendChild(cancel);\n",
              "  cancel.textContent = 'Cancel upload';\n",
              "  const cancelPromise = new Promise((resolve) => {\n",
              "    cancel.onclick = () => {\n",
              "      resolve(null);\n",
              "    };\n",
              "  });\n",
              "\n",
              "  // Wait for the user to pick the files.\n",
              "  const files = yield {\n",
              "    promise: Promise.race([pickedPromise, cancelPromise]),\n",
              "    response: {\n",
              "      action: 'starting',\n",
              "    }\n",
              "  };\n",
              "\n",
              "  cancel.remove();\n",
              "\n",
              "  // Disable the input element since further picks are not allowed.\n",
              "  inputElement.disabled = true;\n",
              "\n",
              "  if (!files) {\n",
              "    return {\n",
              "      response: {\n",
              "        action: 'complete',\n",
              "      }\n",
              "    };\n",
              "  }\n",
              "\n",
              "  for (const file of files) {\n",
              "    const li = document.createElement('li');\n",
              "    li.append(span(file.name, {fontWeight: 'bold'}));\n",
              "    li.append(span(\n",
              "        `(${file.type || 'n/a'}) - ${file.size} bytes, ` +\n",
              "        `last modified: ${\n",
              "            file.lastModifiedDate ? file.lastModifiedDate.toLocaleDateString() :\n",
              "                                    'n/a'} - `));\n",
              "    const percent = span('0% done');\n",
              "    li.appendChild(percent);\n",
              "\n",
              "    outputElement.appendChild(li);\n",
              "\n",
              "    const fileDataPromise = new Promise((resolve) => {\n",
              "      const reader = new FileReader();\n",
              "      reader.onload = (e) => {\n",
              "        resolve(e.target.result);\n",
              "      };\n",
              "      reader.readAsArrayBuffer(file);\n",
              "    });\n",
              "    // Wait for the data to be ready.\n",
              "    let fileData = yield {\n",
              "      promise: fileDataPromise,\n",
              "      response: {\n",
              "        action: 'continue',\n",
              "      }\n",
              "    };\n",
              "\n",
              "    // Use a chunked sending to avoid message size limits. See b/62115660.\n",
              "    let position = 0;\n",
              "    do {\n",
              "      const length = Math.min(fileData.byteLength - position, MAX_PAYLOAD_SIZE);\n",
              "      const chunk = new Uint8Array(fileData, position, length);\n",
              "      position += length;\n",
              "\n",
              "      const base64 = btoa(String.fromCharCode.apply(null, chunk));\n",
              "      yield {\n",
              "        response: {\n",
              "          action: 'append',\n",
              "          file: file.name,\n",
              "          data: base64,\n",
              "        },\n",
              "      };\n",
              "\n",
              "      let percentDone = fileData.byteLength === 0 ?\n",
              "          100 :\n",
              "          Math.round((position / fileData.byteLength) * 100);\n",
              "      percent.textContent = `${percentDone}% done`;\n",
              "\n",
              "    } while (position < fileData.byteLength);\n",
              "  }\n",
              "\n",
              "  // All done.\n",
              "  yield {\n",
              "    response: {\n",
              "      action: 'complete',\n",
              "    }\n",
              "  };\n",
              "}\n",
              "\n",
              "scope.google = scope.google || {};\n",
              "scope.google.colab = scope.google.colab || {};\n",
              "scope.google.colab._files = {\n",
              "  _uploadFiles,\n",
              "  _uploadFilesContinue,\n",
              "};\n",
              "})(self);\n",
              "</script> "
            ]
          },
          "metadata": {}
        },
        {
          "output_type": "stream",
          "name": "stdout",
          "text": [
            "Saving 0.png to 0.png\n",
            "Saving 1.png to 1.png\n",
            "Saving 2.png to 2.png\n",
            "Saving 3.png to 3.png\n",
            "Saving 4.png to 4.png\n",
            "Saving 5.png to 5.png\n",
            "Saving 6.png to 6.png\n",
            "Saving 7.png to 7.png\n",
            "Saving 8.png to 8.png\n",
            "Saving 9.png to 9.png\n"
          ]
        }
      ],
      "source": [
        "# TO LOAD FILES ON GOOGLE COLAB\n",
        "from google.colab import files\n",
        "upload = files.upload() #this will let you browse and choose the file to be uploaded"
      ]
    },
    {
      "cell_type": "code",
      "execution_count": 53,
      "metadata": {
        "id": "ndNsaj3LGJr-",
        "colab": {
          "base_uri": "https://localhost:8080/",
          "height": 1000
        },
        "outputId": "3728e08a-b2b0-46dc-f61a-218d82e9e55b"
      },
      "outputs": [
        {
          "output_type": "stream",
          "name": "stdout",
          "text": [
            "Processing and predicting for each image:\n",
            "Processing: 0.png\n",
            "\u001b[1m1/1\u001b[0m \u001b[32m━━━━━━━━━━━━━━━━━━━━\u001b[0m\u001b[37m\u001b[0m \u001b[1m0s\u001b[0m 57ms/step\n",
            "Processing: 1.png\n",
            "\u001b[1m1/1\u001b[0m \u001b[32m━━━━━━━━━━━━━━━━━━━━\u001b[0m\u001b[37m\u001b[0m \u001b[1m0s\u001b[0m 50ms/step\n",
            "Processing: 2.png\n",
            "\u001b[1m1/1\u001b[0m \u001b[32m━━━━━━━━━━━━━━━━━━━━\u001b[0m\u001b[37m\u001b[0m \u001b[1m0s\u001b[0m 52ms/step\n",
            "Processing: 3.png\n",
            "\u001b[1m1/1\u001b[0m \u001b[32m━━━━━━━━━━━━━━━━━━━━\u001b[0m\u001b[37m\u001b[0m \u001b[1m0s\u001b[0m 48ms/step\n",
            "Processing: 4.png\n",
            "\u001b[1m1/1\u001b[0m \u001b[32m━━━━━━━━━━━━━━━━━━━━\u001b[0m\u001b[37m\u001b[0m \u001b[1m0s\u001b[0m 48ms/step\n",
            "Processing: 5.png\n",
            "\u001b[1m1/1\u001b[0m \u001b[32m━━━━━━━━━━━━━━━━━━━━\u001b[0m\u001b[37m\u001b[0m \u001b[1m0s\u001b[0m 46ms/step\n",
            "Processing: 6.png\n",
            "\u001b[1m1/1\u001b[0m \u001b[32m━━━━━━━━━━━━━━━━━━━━\u001b[0m\u001b[37m\u001b[0m \u001b[1m0s\u001b[0m 50ms/step\n",
            "Processing: 7.png\n",
            "\u001b[1m1/1\u001b[0m \u001b[32m━━━━━━━━━━━━━━━━━━━━\u001b[0m\u001b[37m\u001b[0m \u001b[1m0s\u001b[0m 44ms/step\n",
            "Processing: 8.png\n",
            "\u001b[1m1/1\u001b[0m \u001b[32m━━━━━━━━━━━━━━━━━━━━\u001b[0m\u001b[37m\u001b[0m \u001b[1m0s\u001b[0m 45ms/step\n",
            "Processing: 9.png\n",
            "\u001b[1m1/1\u001b[0m \u001b[32m━━━━━━━━━━━━━━━━━━━━\u001b[0m\u001b[37m\u001b[0m \u001b[1m0s\u001b[0m 47ms/step\n"
          ]
        },
        {
          "output_type": "display_data",
          "data": {
            "text/plain": [
              "<Figure size 1500x1500 with 10 Axes>"
            ],
            "image/png": "[encoded data removed]"
          },
          "metadata": {}
        },
        {
          "output_type": "stream",
          "name": "stdout",
          "text": [
            "\n",
            "Prediction process completed.\n"
          ]
        }
      ],
      "source": [
        "from PIL import Image\n",
        "import os\n",
        "import numpy as np\n",
        "import matplotlib.pyplot as plt\n",
        "\n",
        "# Ensure img_rows and img_cols are defined\n",
        "img_rows, img_cols = 28, 28\n",
        "\n",
        "# List of image filenames to process\n",
        "image_filenames = [f\"{i}.png\" for i in range(10)] # Create a list of filenames from \"0.png\" to \"9.png\"\n",
        "\n",
        "print(\"Processing and predicting for each image:\")\n",
        "\n",
        "plt.figure(figsize=(15, 15)) # Create a figure to display all images and predictions\n",
        "\n",
        "for i, digit_filename in enumerate(image_filenames):\n",
        "    print(f\"Processing: {digit_filename}\")\n",
        "    try:\n",
        "        # Open the image (assumes files are in the current directory after upload)\n",
        "        # If using Google Colab and files.upload(), files will be in the current directory.\n",
        "        digit_in = Image.open(digit_filename).convert('L') # Convert to grayscale\n",
        "\n",
        "        # Resize the image to 28x28 pixels if it's not already\n",
        "        if digit_in.size != (img_rows, img_cols):\n",
        "             digit_in = digit_in.resize((img_rows, img_cols))\n",
        "\n",
        "        ydim, xdim = digit_in.size\n",
        "\n",
        "        pix=digit_in.load();\n",
        "        data = np.zeros((xdim, ydim))\n",
        "        for j in range(ydim):\n",
        "            for i_loop in range(xdim): # Changed loop variable to avoid conflict with outer loop\n",
        "                data[i_loop,j]=pix[j,i_loop]\n",
        "\n",
        "        data /= 255 # Normalize pixel values to [0, 1]\n",
        "\n",
        "        # Now, use this processed 'data' for prediction with model_DNN\n",
        "        # Reshape data for prediction (DNN expects (1, img_rows*img_cols))\n",
        "        data_for_prediction = data.reshape(1, xdim * ydim)\n",
        "\n",
        "        # Predict using the trained DNN model\n",
        "        pred = model_DNN.predict(data_for_prediction)\n",
        "\n",
        "        # Display the image and prediction within the loop\n",
        "        ax = plt.subplot(2, 5, i + 1) # Arrange plots in 2 rows, 5 columns\n",
        "        plt.imshow(data, cmap='gray') # Use the 28x28 'data' for displaying\n",
        "        plt.title(f\"Loaded: {digit_filename}\\nPredicted: {np.argmax(pred)}\")\n",
        "        plt.axis('off')\n",
        "\n",
        "    except FileNotFoundError:\n",
        "        print(f\"Error: File {digit_filename} not found. Make sure it was uploaded.\")\n",
        "        # Optionally, display a placeholder or skip the subplot for this missing file\n",
        "        ax = plt.subplot(2, 5, i + 1)\n",
        "        plt.text(0.5, 0.5, \"File not found\", horizontalalignment='center', verticalalignment='center')\n",
        "        plt.title(f\"{digit_filename}\\n(Not found)\")\n",
        "        plt.axis('off')\n",
        "    except Exception as e:\n",
        "        print(f\"Error processing {digit_filename}: {e}\")\n",
        "        # Optionally, display a placeholder for error\n",
        "        ax = plt.subplot(2, 5, i + 1)\n",
        "        plt.text(0.5, 0.5, \"Error\", horizontalalignment='center', verticalalignment='center')\n",
        "        plt.title(f\"{digit_filename}\\n(Error)\")\n",
        "        plt.axis('off')\n",
        "\n",
        "plt.tight_layout() # Adjust layout to prevent titles overlapping\n",
        "plt.show()\n",
        "\n",
        "print(\"\\nPrediction process completed.\")"
      ]
    },
    {
      "cell_type": "markdown",
      "source": [
        "### Analisi dei risultati\n",
        "Il modello riesce a riconoscere quasi tutte le cifre, ad eccezione del 6 (confuso con 5), 8 (confuso con 3). Gli errori di classificazione sono riconducibili a specifiche somiglianze morfologiche tra le cifre.\n",
        "\n",
        "Entrambi questi casi dimostrano che il modello incontra difficoltà a generalizzare su esempi la cui morfologia si discosta dai prototipi più comuni presenti nel dataset di addestramento, tendendo a classificarli secondo la classe che risulta morfologicamente più prossima."
      ],
      "metadata": {
        "id": "dMuyjrsBcxge"
      }
    },
    {
      "cell_type": "markdown",
      "metadata": {
        "id": "I-DFU4L_GJr-"
      },
      "source": [
        "I use the previously trained DNN to predict the digit:"
      ]
    },
    {
      "cell_type": "code",
      "execution_count": null,
      "metadata": {
        "id": "v10kuS2XGJr-",
        "colab": {
          "base_uri": "https://localhost:8080/",
          "height": 496
        },
        "outputId": "9d3deab1-2d75-4428-b2ee-6f645dd63c20"
      },
      "outputs": [
        {
          "output_type": "stream",
          "name": "stdout",
          "text": [
            "(28, 28)\n",
            "(1, 784)\n",
            "\u001b[1m1/1\u001b[0m \u001b[32m━━━━━━━━━━━━━━━━━━━━\u001b[0m\u001b[37m\u001b[0m \u001b[1m0s\u001b[0m 36ms/step\n"
          ]
        },
        {
          "output_type": "display_data",
          "data": {
            "text/plain": [
              "<Figure size 500x500 with 1 Axes>"
            ],
            "image/png": "[encoded data removed]"
          },
          "metadata": {}
        }
      ],
      "source": [
        "print(data.shape)\n",
        "data = data.reshape(1,xdim*ydim)\n",
        "print(data.shape)\n",
        "pred_0 = model_DNN.predict(data)\n",
        "\n",
        "data = data.reshape(xdim,ydim)\n",
        "\n",
        "plt.figure(figsize=(5, 5))\n",
        "plt.imshow(data, cmap='gray')\n",
        "plt.title(\"Digit predicted:    {}\".format(np.argmax(pred_0)))\n",
        "plt.axis('off')\n",
        "plt.show()"
      ]
    },
    {
      "cell_type": "markdown",
      "metadata": {
        "id": "c3iyD9cBGJr_"
      },
      "source": [
        "### <span style=\"color:green\">Supplementary information 1: Use of `gimp` </span>\n",
        "\n",
        "- from the Unix shell type: `gimp` and hit `Return`\n",
        "- File -> new (chose: 28x28 pixels)\n",
        "- rascale the image to 800%\n",
        "- Use the **brush** with dimension 2px to draw your digit\n",
        "- Color -> invert (to have black background)\n",
        "- Export the image as a `.png` file\n",
        "\n",
        "That's all!"
      ]
    },
    {
      "cell_type": "markdown",
      "metadata": {
        "id": "6YE9-OGXGJr_"
      },
      "source": [
        "### <span style=\"color:green\">Supplementary information 2: Display trained filters in your CNN</span>"
      ]
    },
    {
      "cell_type": "markdown",
      "metadata": {
        "id": "au0Z455JGJr_"
      },
      "source": [
        "Print your NN layers:"
      ]
    },
    {
      "cell_type": "code",
      "execution_count": null,
      "metadata": {
        "id": "Tw0x66ESGJsA"
      },
      "outputs": [],
      "source": [
        "layer_index=0\n",
        "for layer in model_CNN.layers:\n",
        "    print(layer_index, layer.name)\n",
        "    layer_index+=1"
      ]
    },
    {
      "cell_type": "markdown",
      "metadata": {
        "id": "w3vjTZ-FGJsA"
      },
      "source": [
        "Display your filters:"
      ]
    },
    {
      "cell_type": "code",
      "execution_count": null,
      "metadata": {
        "id": "rpMn40UEGJsA"
      },
      "outputs": [],
      "source": [
        "# layer_index should be the index of a convolutional layer\n",
        "layer_index=0\n",
        "# retrieve weights from the convolutional hidden layer\n",
        "filters, biases = model_CNN.layers[layer_index].get_weights()\n",
        "# normalize filter values to 0-1 so we can visualize them\n",
        "f_min, f_max = filters.min(), filters.max()\n",
        "filters = (filters - f_min) / (f_max - f_min)\n",
        "print(filters.shape)\n",
        "\n",
        "# plot filters\n",
        "n_filters, ix = filters.shape[3], 1\n",
        "for i in range(n_filters):\n",
        "    # get the filter\n",
        "    f = filters[:, :, :, i]\n",
        "    # specify subplot and turn of axis\n",
        "    ax = plt.subplot(1,n_filters, ix)\n",
        "    ax.set_xticks([])\n",
        "    ax.set_yticks([])\n",
        "    # plot filter channel in grayscale\n",
        "    plt.imshow(f[:, :, 0], cmap='gray')\n",
        "    ix += 1\n",
        "# show the figure\n",
        "plt.show()"
      ]
    },
    {
      "cell_type": "markdown",
      "metadata": {
        "id": "qqX9TV8lGJsH"
      },
      "source": [
        "### <span style=\"color:green\">Supplementary information 3: Monitor layer outputs in your CNN</span>"
      ]
    },
    {
      "cell_type": "code",
      "execution_count": null,
      "metadata": {
        "id": "5TPOd_J_GJsH"
      },
      "outputs": [],
      "source": [
        "test_index = 0\n",
        "\n",
        "from keras.models import Model\n",
        "layer_outputs = [layer.output for layer in model_CNN.layers]\n",
        "activation_model = Model(inputs=model_CNN.input, outputs=layer_outputs)\n",
        "activations = activation_model.predict(X_test[test_index].reshape(1,28,28,1))\n",
        "\n",
        "def display_activation(activations, col_size, row_size, layer_index):\n",
        "    activation = activations[layer_index]\n",
        "    activation_index=0\n",
        "    fig, ax = plt.subplots(row_size, col_size, figsize=(row_size*3,col_size*3))\n",
        "    for row in range(0,row_size):\n",
        "        for col in range(0,col_size):\n",
        "            ax[row][col].imshow(activation[0, :, :, activation_index], cmap='gray')\n",
        "            activation_index += 1"
      ]
    },
    {
      "cell_type": "code",
      "execution_count": null,
      "metadata": {
        "id": "iPYrvljzGJsI"
      },
      "outputs": [],
      "source": [
        "%matplotlib inline\n",
        "plt.imshow(X_test[test_index][:,:,0], cmap='gray')\n",
        "# def display_activation(activations, col_size, row_size, layer number)\n",
        "display_activation(activations, 4, 2, 0)\n",
        "# col_size x row_size must be <= Number of filters for the convolutional layer"
      ]
    }
  ],
  "metadata": {
    "kernelspec": {
      "display_name": "Python 3 (ipykernel)",
      "language": "python",
      "name": "python3"
    },
    "language_info": {
      "codemirror_mode": {
        "name": "ipython",
        "version": 3
      },
      "file_extension": ".py",
      "mimetype": "text/x-python",
      "name": "python",
      "nbconvert_exporter": "python",
      "pygments_lexer": "ipython3",
      "version": "3.9.13"
    },
    "colab": {
      "provenance": []
    }
  },
  "nbformat": 4,
  "nbformat_minor": 0
}